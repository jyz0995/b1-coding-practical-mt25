{
 "cells": [
  {
   "cell_type": "code",
   "execution_count": 29,
   "metadata": {},
   "outputs": [],
   "source": [
    "# Add relevant Jupyter notebook extensions "
   ]
  },
  {
   "cell_type": "code",
   "execution_count": 30,
   "metadata": {},
   "outputs": [
    {
     "name": "stdout",
     "output_type": "stream",
     "text": [
      "['C:\\\\Program Files\\\\WindowsApps\\\\PythonSoftwareFoundation.Python.3.11_3.11.2544.0_x64__qbz5n2kfra8p0\\\\python311.zip', 'C:\\\\Program Files\\\\WindowsApps\\\\PythonSoftwareFoundation.Python.3.11_3.11.2544.0_x64__qbz5n2kfra8p0\\\\DLLs', 'C:\\\\Program Files\\\\WindowsApps\\\\PythonSoftwareFoundation.Python.3.11_3.11.2544.0_x64__qbz5n2kfra8p0\\\\Lib', 'C:\\\\Program Files\\\\WindowsApps\\\\PythonSoftwareFoundation.Python.3.11_3.11.2544.0_x64__qbz5n2kfra8p0', 'd:\\\\python practice\\\\practice\\\\scientific_coding\\\\新建文件夹\\\\b1-coding-practical-mt25\\\\.venv', '', 'd:\\\\python practice\\\\practice\\\\scientific_coding\\\\新建文件夹\\\\b1-coding-practical-mt25\\\\.venv\\\\Lib\\\\site-packages', '..', '..', '..', '..', '..', '..', '..', '..', '..']\n"
     ]
    }
   ],
   "source": [
    "# You can double-check your Python path like this...\n",
    "import sys  \n",
    "print(sys.path)"
   ]
  },
  {
   "cell_type": "markdown",
   "metadata": {},
   "source": [
    "# Simulate closed-loop\n",
    "After implementing your control functionality, you can simulate the closed-loop with code that looks something like this..."
   ]
  },
  {
   "cell_type": "code",
   "execution_count": 31,
   "metadata": {},
   "outputs": [
    {
     "ename": "TypeError",
     "evalue": "ClosedLoop.simulate() takes 2 positional arguments but 3 were given",
     "output_type": "error",
     "traceback": [
      "\u001b[31m---------------------------------------------------------------------------\u001b[39m",
      "\u001b[31mTypeError\u001b[39m                                 Traceback (most recent call last)",
      "\u001b[36mCell\u001b[39m\u001b[36m \u001b[39m\u001b[32mIn[31]\u001b[39m\u001b[32m, line 12\u001b[39m\n\u001b[32m      9\u001b[39m closed_loop = ClosedLoop(sub, kp=\u001b[32m0.15\u001b[39m, kd=\u001b[32m0.6\u001b[39m)\n\u001b[32m     10\u001b[39m mission = Mission.from_csv(\u001b[33m\"\u001b[39m\u001b[33m../data/mission.csv\u001b[39m\u001b[33m\"\u001b[39m)  \u001b[38;5;66;03m# Use the existing mission.csv file\u001b[39;00m\n\u001b[32m---> \u001b[39m\u001b[32m12\u001b[39m trajectory = \u001b[43mclosed_loop\u001b[49m\u001b[43m.\u001b[49m\u001b[43msimulate_with_random_disturbances\u001b[49m\u001b[43m(\u001b[49m\u001b[43mmission\u001b[49m\u001b[43m)\u001b[49m\n\u001b[32m     13\u001b[39m trajectory.plot_completed_mission(mission)\n",
      "\u001b[36mFile \u001b[39m\u001b[32md:\\python practice\\practice\\scientific_coding\\新建文件夹\\b1-coding-practical-mt25\\notebooks\\..\\uuv_mission\\dynamic.py:125\u001b[39m, in \u001b[36mClosedLoop.simulate_with_random_disturbances\u001b[39m\u001b[34m(self, mission, variance)\u001b[39m\n\u001b[32m    123\u001b[39m \u001b[38;5;28;01mdef\u001b[39;00m\u001b[38;5;250m \u001b[39m\u001b[34msimulate_with_random_disturbances\u001b[39m(\u001b[38;5;28mself\u001b[39m, mission: Mission, variance: \u001b[38;5;28mfloat\u001b[39m = \u001b[32m0.5\u001b[39m) -> Trajectory:\n\u001b[32m    124\u001b[39m     disturbances = np.random.normal(\u001b[32m0\u001b[39m, variance, \u001b[38;5;28mlen\u001b[39m(mission.reference))\n\u001b[32m--> \u001b[39m\u001b[32m125\u001b[39m     \u001b[38;5;28;01mreturn\u001b[39;00m \u001b[38;5;28;43mself\u001b[39;49m\u001b[43m.\u001b[49m\u001b[43msimulate\u001b[49m\u001b[43m(\u001b[49m\u001b[43mmission\u001b[49m\u001b[43m,\u001b[49m\u001b[43m \u001b[49m\u001b[43mdisturbances\u001b[49m\u001b[43m)\u001b[49m\n",
      "\u001b[31mTypeError\u001b[39m: ClosedLoop.simulate() takes 2 positional arguments but 3 were given"
     ]
    }
   ],
   "source": [
    "# Cell 3: Import relevant modules\n",
    "import sys\n",
    "sys.path.append('..')  # Add parent directory to path to access uuv_mission package\n",
    "\n",
    "from uuv_mission.dynamic import Submarine, ClosedLoop, Mission, Trajectory\n",
    "\n",
    "sub = Submarine()\n",
    "# The ClosedLoop class already instantiates the controller internally\n",
    "closed_loop = ClosedLoop(sub, kp=0.15, kd=0.6)\n",
    "mission = Mission.from_csv(\"../data/mission.csv\")  # Use the existing mission.csv file\n",
    "\n",
    "trajectory = closed_loop.simulate_with_random_disturbances(mission)\n",
    "trajectory.plot_completed_mission(mission)"
   ]
  }
 ],
 "metadata": {
  "kernelspec": {
   "display_name": "first-venv",
   "language": "python",
   "name": "python3"
  },
  "language_info": {
   "codemirror_mode": {
    "name": "ipython",
    "version": 3
   },
   "file_extension": ".py",
   "mimetype": "text/x-python",
   "name": "python",
   "nbconvert_exporter": "python",
   "pygments_lexer": "ipython3",
   "version": "3.9.12"
  }
 },
 "nbformat": 4,
 "nbformat_minor": 2
}
